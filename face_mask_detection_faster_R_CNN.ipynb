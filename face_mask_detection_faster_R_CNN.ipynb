{
  "nbformat": 4,
  "nbformat_minor": 0,
  "metadata": {
    "colab": {
      "provenance": [],
      "gpuType": "T4",
      "mount_file_id": "1aN8xCaxxlwKK7kAZ7APacHWJD_DZSIC_",
      "authorship_tag": "ABX9TyNdwChc6AISV5mzK1wLlhtA",
      "include_colab_link": true
    },
    "kernelspec": {
      "name": "python3",
      "display_name": "Python 3"
    },
    "language_info": {
      "name": "python"
    },
    "accelerator": "GPU"
  },
  "cells": [
    {
      "cell_type": "markdown",
      "metadata": {
        "id": "view-in-github",
        "colab_type": "text"
      },
      "source": [
        "<a href=\"https://colab.research.google.com/github/seoharu/DATA-AI/blob/main/face_mask_detection_faster_R_CNN.ipynb\" target=\"_parent\"><img src=\"https://colab.research.google.com/assets/colab-badge.svg\" alt=\"Open In Colab\"/></a>"
      ]
    },
    {
      "cell_type": "code",
      "execution_count": null,
      "metadata": {
        "id": "JQZYlrOttfqj"
      },
      "outputs": [],
      "source": [
        "import numpy as np               # linear algebra\n",
        "import pandas as pd              # data processing, CSV file I/O\n",
        "from bs4 import BeautifulSoup\n",
        "import torchvision\n",
        "from torchvision import transforms, datasets, models\n",
        "import torch\n",
        "from torchvision.models.detection.faster_rcnn import FastRCNNPredictor\n",
        "from PIL import Image\n",
        "import matplotlib.pyplot as plt\n",
        "from torchvision.models.detection.mask_rcnn import MaskRCNNPredictor\n",
        "import matplotlib.patches as patches\n",
        "\n",
        "import os"
      ]
    },
    {
      "cell_type": "code",
      "source": [
        "def generate_box(obj):\n",
        "\n",
        "  xmin = int(obj.find('xmin').text)\n",
        "  ymin = int(obj.find('ymin').text)\n",
        "  xmax = int(obj.find('xmax').text)\n",
        "  ymax = int(obj.find('ymax').text)\n",
        "\n",
        "  return [xmin, ymin, xmax, ymax]\n",
        "\n",
        "def generate_label(obj):\n",
        "  if obj.find('name').text == \"with_mask\":\n",
        "    return 1\n",
        "  elif obj.find('name').text == \"mask_weared_incorrect\":\n",
        "    return 2\n",
        "  return 0\n",
        "\n",
        "def generate_target(image_id, file):\n",
        "  with open(file) as f:\n",
        "    data = f.read()\n",
        "    soup = BeautifulSoup(data, 'xml')\n",
        "    objects = soup.find_all('object')\n",
        "\n",
        "    num_objs = len(objects)\n",
        "\n",
        "    boxes = []\n",
        "    labels = []\n",
        "\n",
        "    for i in objects:\n",
        "      boxes.append(generate_box(i))\n",
        "      labels.append(generate_label(i))\n",
        "    boxes = torch.as_tensor(boxes, dtype = torch.float32)\n",
        "\n",
        "    labels = torch.as_tensor(labels, dtype=torch.int64)\n",
        "\n",
        "    img_id = torch.tensor([image_id])\n",
        "\n",
        "    target = {}\n",
        "    target[\"boxes\"] = boxes\n",
        "    target[\"labels\"] = labels\n",
        "    target[\"image_id\"] = img_id\n",
        "\n",
        "    return target"
      ],
      "metadata": {
        "id": "TcjJUICOROEd"
      },
      "execution_count": null,
      "outputs": []
    },
    {
      "cell_type": "code",
      "source": [
        "imgs = list(sorted(os.listdir(\"/content/drive/MyDrive/JBNU/2023 AI 전공특화교육/project/archive/images\")))\n"
      ],
      "metadata": {
        "id": "vzOk7kjVYQwb"
      },
      "execution_count": null,
      "outputs": []
    },
    {
      "cell_type": "code",
      "source": [
        "labels = list(sorted(os.listdir(\"/content/drive/MyDrive/JBNU/2023 AI 전공특화교육/project/archive/annotations\")))"
      ],
      "metadata": {
        "id": "jbzzquX9YZ5C"
      },
      "execution_count": null,
      "outputs": []
    },
    {
      "cell_type": "code",
      "source": [
        "class MaskDataset(object):\n",
        "  def __init__(self, transforms):\n",
        "    self.transforms = transforms\n",
        "\n",
        "    self.imgs = list(sorted(os.listdir(\"/content/drive/MyDrive/JBNU/2023 AI 전공특화교육/project/archive/images\")))\n",
        "\n",
        "  def __getitem__(self, idx):\n",
        "    file_image = 'maksssksksss' + str(idx) + '.png'\n",
        "    file_label = 'maksssksksss' + str(idx) + '.xml'\n",
        "    img_path = os.path.join(\"/content/drive/MyDrive/JBNU/2023 AI 전공특화교육/project/archive/images\", file_image)\n",
        "    label_path = os.path.join(\"/content/drive/MyDrive/JBNU/2023 AI 전공특화교육/project/archive/annotations\", file_label)\n",
        "    img = Image.open(img_path).convert(\"RGB\")\n",
        "\n",
        "# generate label\n",
        "    target = generate_target(idx, label_path)\n",
        "\n",
        "    if self.transforms is not None:\n",
        "      img = self.transforms(img)\n",
        "\n",
        "    return img, target\n",
        "\n",
        "  def __len__(self):\n",
        "    return len(self.imgs)\n"
      ],
      "metadata": {
        "id": "OHk6g38SYhCQ"
      },
      "execution_count": null,
      "outputs": []
    },
    {
      "cell_type": "code",
      "source": [
        "data_transform = transforms.Compose([transforms.ToTensor(), ])"
      ],
      "metadata": {
        "id": "3cMo5kidZkRx"
      },
      "execution_count": null,
      "outputs": []
    },
    {
      "cell_type": "code",
      "source": [
        "def collate_fn(batch):\n",
        "  return tuple(zip(*batch))\n",
        "\n",
        "dataset = MaskDataset(data_transform)\n",
        "data_loader = torch.utils.data.DataLoader(\n",
        "    dataset, batch_size=4, collate_fn = collate_fn\n",
        ")"
      ],
      "metadata": {
        "id": "IzkR2vKkZqgV"
      },
      "execution_count": null,
      "outputs": []
    },
    {
      "cell_type": "code",
      "source": [
        "torch.cuda.is_available()\n",
        " # false가 나와도 되나?"
      ],
      "metadata": {
        "id": "sPoK0Yt4ZK9i",
        "colab": {
          "base_uri": "https://localhost:8080/"
        },
        "outputId": "a44f7277-3174-4ca9-96ef-7a236b198908"
      },
      "execution_count": null,
      "outputs": [
        {
          "output_type": "execute_result",
          "data": {
            "text/plain": [
              "True"
            ]
          },
          "metadata": {},
          "execution_count": 10
        }
      ]
    },
    {
      "cell_type": "code",
      "source": [
        "# Model\n",
        "\n",
        "def get_model_instance_segmentation(num_classes):\n",
        "  model = torchvision.models.detection.fasterrcnn_resnet50_fpn(pretrained=True)\n",
        "\n",
        "  in_features = model.roi_heads.box_predictor.cls_score.in_features\n",
        "  model.roi_heads.box_predictor = FastRCNNPredictor(in_features, num_classes)\n",
        "\n",
        "  return model"
      ],
      "metadata": {
        "id": "y4znMrOUZ_Mz"
      },
      "execution_count": null,
      "outputs": []
    },
    {
      "cell_type": "code",
      "source": [
        "model = get_model_instance_segmentation(3)"
      ],
      "metadata": {
        "id": "t2z9uqZ_agIq",
        "colab": {
          "base_uri": "https://localhost:8080/"
        },
        "outputId": "2167216d-c059-436d-b970-4b734107af95"
      },
      "execution_count": null,
      "outputs": [
        {
          "output_type": "stream",
          "name": "stderr",
          "text": [
            "/usr/local/lib/python3.10/dist-packages/torchvision/models/_utils.py:208: UserWarning: The parameter 'pretrained' is deprecated since 0.13 and may be removed in the future, please use 'weights' instead.\n",
            "  warnings.warn(\n",
            "/usr/local/lib/python3.10/dist-packages/torchvision/models/_utils.py:223: UserWarning: Arguments other than a weight enum or `None` for 'weights' are deprecated since 0.13 and may be removed in the future. The current behavior is equivalent to passing `weights=FasterRCNN_ResNet50_FPN_Weights.COCO_V1`. You can also use `weights=FasterRCNN_ResNet50_FPN_Weights.DEFAULT` to get the most up-to-date weights.\n",
            "  warnings.warn(msg)\n",
            "Downloading: \"https://download.pytorch.org/models/fasterrcnn_resnet50_fpn_coco-258fb6c6.pth\" to /root/.cache/torch/hub/checkpoints/fasterrcnn_resnet50_fpn_coco-258fb6c6.pth\n",
            "100%|██████████| 160M/160M [00:02<00:00, 66.5MB/s]\n"
          ]
        }
      ]
    },
    {
      "cell_type": "code",
      "source": [
        "device = torch.device('cuda') if torch.cuda.is_available() else torch.device('cpu')\n",
        "for imgs, annotations in data_loader:\n",
        "  imgs = list(img.to(device) for img in imgs)\n",
        "  annotations = [{k: v.to(device) for k, v in t.items()} for t in annotations]\n",
        "  print(annotations)\n",
        "  break"
      ],
      "metadata": {
        "id": "Gko-dmNeas88",
        "colab": {
          "base_uri": "https://localhost:8080/"
        },
        "outputId": "cd48cc88-f5eb-4aa9-9dd9-325e578ab52c"
      },
      "execution_count": null,
      "outputs": [
        {
          "output_type": "stream",
          "name": "stdout",
          "text": [
            "[{'boxes': tensor([[ 79., 105., 109., 142.],\n",
            "        [185., 100., 226., 144.],\n",
            "        [325.,  90., 360., 141.]], device='cuda:0'), 'labels': tensor([0, 1, 0], device='cuda:0'), 'image_id': tensor([0], device='cuda:0')}, {'boxes': tensor([[321.,  34., 354.,  69.],\n",
            "        [224.,  38., 261.,  73.],\n",
            "        [299.,  58., 315.,  81.],\n",
            "        [143.,  74., 174., 115.],\n",
            "        [ 74.,  69.,  95.,  99.],\n",
            "        [191.,  67., 221.,  93.],\n",
            "        [ 21.,  73.,  44.,  93.],\n",
            "        [369.,  70., 398.,  99.],\n",
            "        [ 83.,  56., 111.,  89.]], device='cuda:0'), 'labels': tensor([1, 1, 1, 1, 1, 1, 1, 1, 0], device='cuda:0'), 'image_id': tensor([1], device='cuda:0')}, {'boxes': tensor([[ 68.,  42., 105.,  69.],\n",
            "        [154.,  47., 178.,  74.],\n",
            "        [238.,  34., 262.,  69.],\n",
            "        [333.,  31., 366.,  65.]], device='cuda:0'), 'labels': tensor([1, 1, 1, 2], device='cuda:0'), 'image_id': tensor([2], device='cuda:0')}, {'boxes': tensor([[ 52.,  53.,  73.,  76.],\n",
            "        [ 72.,  53.,  92.,  75.],\n",
            "        [112.,  51., 120.,  68.],\n",
            "        [155.,  60., 177.,  83.],\n",
            "        [189.,  59., 210.,  80.],\n",
            "        [235.,  57., 257.,  78.],\n",
            "        [289.,  60., 309.,  83.],\n",
            "        [313.,  68., 333.,  90.],\n",
            "        [351.,  35., 364.,  59.]], device='cuda:0'), 'labels': tensor([1, 1, 1, 1, 1, 1, 1, 1, 1], device='cuda:0'), 'image_id': tensor([3], device='cuda:0')}]\n"
          ]
        }
      ]
    },
    {
      "cell_type": "code",
      "source": [
        "# Train Model\n",
        "\n",
        "num_epochs = 25\n",
        "model.to(device)\n",
        "\n",
        "# parameters\n",
        "params = [p for p in model.parameters() if p.requires_grad]\n",
        "optimizer = torch.optim.SGD(params, lr = 0.005, momentum = 0.9, weight_decay = 0.0005)\n",
        "\n",
        "len_dataloader = len(data_loader)\n",
        "\n",
        "for epoch in range(num_epochs):\n",
        "  model.train()\n",
        "  i = 0\n",
        "  epoch_loss = 0\n",
        "  for imgs, annotations in data_loader:\n",
        "    i += 1\n",
        "    imgs = list(img.to(device) for img in imgs)\n",
        "    annotations = [{k: v.to(device) for k, v in t.items()} for t in annotations]\n",
        "    loss_dict = model([imgs[0]], [annotations[0]])\n",
        "    losses = sum(loss for loss in loss_dict.values())\n",
        "\n",
        "    optimizer.zero_grad()\n",
        "    losses.backward()\n",
        "    optimizer.step()\n",
        "\n",
        "    epoch_loss += losses\n",
        "  print(epoch_loss)\n"
      ],
      "metadata": {
        "id": "guySs9vmamY3",
        "colab": {
          "base_uri": "https://localhost:8080/"
        },
        "outputId": "9be9c186-2f4b-469f-f0dd-c72e15e103a7"
      },
      "execution_count": null,
      "outputs": [
        {
          "output_type": "stream",
          "name": "stdout",
          "text": [
            "tensor(95.0723, device='cuda:0', grad_fn=<AddBackward0>)\n",
            "tensor(60.8832, device='cuda:0', grad_fn=<AddBackward0>)\n",
            "tensor(59.0469, device='cuda:0', grad_fn=<AddBackward0>)\n",
            "tensor(45.4638, device='cuda:0', grad_fn=<AddBackward0>)\n"
          ]
        }
      ]
    },
    {
      "cell_type": "code",
      "source": [
        "for imgs, annotations in data_loader:\n",
        "  imgs = list(img.to(device) for img in imgs)\n",
        "  annotations = [{k: v.to(device) for k, v in t.items()} for t in annotations]\n",
        "  break"
      ],
      "metadata": {
        "id": "ppyTs8TZimcD"
      },
      "execution_count": null,
      "outputs": []
    },
    {
      "cell_type": "code",
      "source": [
        "model.eval()\n",
        "preds = model(imgs)\n",
        "preds\n"
      ],
      "metadata": {
        "id": "1Z_Zs3wAjOMV"
      },
      "execution_count": null,
      "outputs": []
    },
    {
      "cell_type": "code",
      "source": [
        "# function to plot image\n",
        "\n",
        "def plot_image(img_tensor, annotation):\n",
        "\n",
        "  fig, ax = plt.subplots(1)\n",
        "  img = img_tensor.cpu().data\n",
        "\n",
        "  # Display the image\n",
        "  ax.imshow(img.permute(1, 2, 0))\n",
        "\n",
        "  for box in annotation[\"boxes\"]:\n",
        "    xmin, ymin, xmax, ymax = box\n",
        "\n",
        "    # create a rectangle patch\n",
        "    rect = patches.Rectangle((xmin, ymin), (xmax-xmin), (ymax-ymin), linewidth = 1, edgecolor = 'r', facecolor = 'none')\n",
        "\n",
        "    # add the patch to the axes\n",
        "    ax.add_patch(rect)\n",
        "\n",
        "  plt.show()"
      ],
      "metadata": {
        "id": "S0moRcuCjZF6"
      },
      "execution_count": null,
      "outputs": []
    },
    {
      "cell_type": "code",
      "source": [
        "print(\"Prediction\")\n",
        "plot_image(imgs[2], preds[2])\n",
        "print(\"Target\")\n",
        "plot_image(imgs[2], annotations[2])"
      ],
      "metadata": {
        "id": "q8d0jwZSkdkK"
      },
      "execution_count": null,
      "outputs": []
    },
    {
      "cell_type": "code",
      "source": [
        "torch.save(model.state_dict(), 'model.pt')"
      ],
      "metadata": {
        "id": "4ToXw-bzks6N"
      },
      "execution_count": null,
      "outputs": []
    },
    {
      "cell_type": "code",
      "source": [
        "model2 = get_model_instance_segmentation(3)"
      ],
      "metadata": {
        "id": "Se1BGaqtk4RB"
      },
      "execution_count": null,
      "outputs": []
    },
    {
      "cell_type": "code",
      "source": [
        "# Save Model\n",
        "\n",
        "model2.load_state_dict(torch.load('model.pt'))\n",
        "model2.eval()\n",
        "model2.to(device)\n"
      ],
      "metadata": {
        "id": "lL8uGAfPk7ts"
      },
      "execution_count": null,
      "outputs": []
    },
    {
      "cell_type": "code",
      "source": [
        "# Load Model\n",
        "\n",
        "pred2 = model2(imgs)\n"
      ],
      "metadata": {
        "id": "OZLpWwmXlI4w"
      },
      "execution_count": null,
      "outputs": []
    },
    {
      "cell_type": "code",
      "source": [
        "print(\"Predict with loaded model\")\n",
        "plot_image(imgs[3], pred2[3])"
      ],
      "metadata": {
        "id": "GvhgvE_YlOf1"
      },
      "execution_count": null,
      "outputs": []
    }
  ]
}